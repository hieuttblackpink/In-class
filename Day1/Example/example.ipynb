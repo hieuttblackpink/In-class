{
 "cells": [
  {
   "cell_type": "markdown",
   "metadata": {},
   "source": [
    "# EXAMPLE 1"
   ]
  },
  {
   "cell_type": "code",
   "execution_count": null,
   "metadata": {},
   "outputs": [],
   "source": [
    "import matplotlib.pyplot as plt\n",
    "import numpy as np\n",
    "\n",
    "t = np.linspace(0, 1, 1000)\n",
    "\n",
    "sig1 = np.sin(2 * np.pi * 2 * t)\n",
    "sig2 = 0.5 * np.cos(2 * np.pi * 5 * t - np.pi / 4)\n",
    "\n",
    "plt.figure()\n",
    "plt.plot(t, sig1)\n",
    "plt.plot(t, sig2, 'k--')\n",
    "plt.title(\"Test plots of sinusoids\")\n",
    "plt.xlabel(\"Time (sec)\")\n",
    "plt.ylabel(\"Signal amplitudes\")\n",
    "plt.grid(True)\n",
    "plt.legend()\n",
    "plt.show()"
   ]
  },
  {
   "cell_type": "markdown",
   "metadata": {},
   "source": [
    "# EXAMPLE 2"
   ]
  },
  {
   "cell_type": "code",
   "execution_count": null,
   "metadata": {},
   "outputs": [],
   "source": [
    "import matplotlib.pyplot as plt\n",
    "import numpy as np\n",
    "\n",
    "t = np.linspace(0, 2 * np.pi, 1000)\n",
    "\n",
    "A = 10\n",
    "B = 20\n",
    "a = 0.5\n",
    "b = 1\n",
    "om1 = 4 * np.pi\n",
    "om2 = 2 * np.pi\n",
    "\n",
    "x_t = A * np.exp(-a * t) * np.sin(om1 * t) + B * np.exp(-b * t) * np.sin(om2 * t)\n",
    "\n",
    "plt.figure()\n",
    "plt.plot(t, x_t)\n",
    "plt.title(\"(a)\")\n",
    "plt.xlabel(r\"$t(s)$\")\n",
    "plt.ylabel(r\"Signal $x(t)$\")\n",
    "plt.xlim([0, 7])\n",
    "plt.ylim([-15, 25])\n",
    "plt.grid(True)\n",
    "plt.show()"
   ]
  },
  {
   "cell_type": "code",
   "execution_count": null,
   "metadata": {},
   "outputs": [],
   "source": [
    "import matplotlib.pyplot as plt\n",
    "import numpy as np\n",
    "\n",
    "t = np.linspace(0, 5, 50)\n",
    "\n",
    "u_t = np.heaviside(t - 1, 1)\n",
    "\n",
    "plt.figure()\n",
    "plt.plot(t, u_t)\n",
    "plt.title(\"(b)\")\n",
    "plt.xlabel(r\"$t$\")\n",
    "plt.ylabel(r\"Signal $u(t)$\")\n",
    "plt.xlim([0, 5])\n",
    "plt.ylim([0, 1.2])\n",
    "plt.grid(True)\n",
    "plt.show()"
   ]
  },
  {
   "cell_type": "markdown",
   "metadata": {},
   "source": [
    "# EXAMPLE 3"
   ]
  },
  {
   "cell_type": "code",
   "execution_count": null,
   "metadata": {},
   "outputs": [],
   "source": []
  },
  {
   "cell_type": "markdown",
   "metadata": {},
   "source": [
    "# EXAMPLE 4"
   ]
  },
  {
   "cell_type": "code",
   "execution_count": null,
   "metadata": {},
   "outputs": [],
   "source": [
    "import matplotlib.pyplot as plt\n",
    "import numpy as np\n",
    "\n"
   ]
  },
  {
   "cell_type": "markdown",
   "metadata": {},
   "source": [
    "# EXAMPLE 5"
   ]
  },
  {
   "cell_type": "code",
   "execution_count": null,
   "metadata": {},
   "outputs": [],
   "source": [
    "import matplotlib.pyplot as plt\n",
    "import numpy as np\n",
    "\n",
    "n = np.arange(0, 32, 1)\n",
    "\n",
    "x_n = 10 * np.sin(2 * np.pi * n / 16)\n",
    "\n",
    "plt.figure()\n",
    "plt.stem(n, x_n, basefmt = \" \")\n",
    "plt.title(\"(a) Discrete signal $x[n]$\")\n",
    "plt.xlabel(r\"$n$\")\n",
    "plt.ylabel(r\"$x[n]$\")\n",
    "plt.xlim([0, 35])\n",
    "plt.ylim([-12, 12])\n",
    "plt.grid(True)\n",
    "plt.show()"
   ]
  }
 ],
 "metadata": {
  "kernelspec": {
   "display_name": "Python 3",
   "language": "python",
   "name": "python3"
  },
  "language_info": {
   "codemirror_mode": {
    "name": "ipython",
    "version": 3
   },
   "file_extension": ".py",
   "mimetype": "text/x-python",
   "name": "python",
   "nbconvert_exporter": "python",
   "pygments_lexer": "ipython3",
   "version": "3.12.6"
  }
 },
 "nbformat": 4,
 "nbformat_minor": 2
}
