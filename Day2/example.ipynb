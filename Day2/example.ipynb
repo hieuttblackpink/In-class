{
 "cells": [
  {
   "cell_type": "markdown",
   "metadata": {},
   "source": [
    "# EXAMPLE 11"
   ]
  },
  {
   "cell_type": "code",
   "execution_count": null,
   "metadata": {},
   "outputs": [],
   "source": [
    "import numpy as np\n",
    "import matplotlib.pyplot as plt\n",
    "\n",
    "A = 4.5\n",
    "f = 100\n",
    "Fs = 8000\n",
    "t = np.arange(0, 0.05, 1 / Fs)\n",
    "\n",
    "x_t = A * np.sin(2 * np.pi * f * t)\n",
    "\n",
    "n_bits = 4\n",
    "V_max = 5\n",
    "V_min = -5\n",
    "quantixation_levels = 2 ** n_bits\n",
    "\n",
    "delta = (V_max - V_min) / (quantixation_levels)\n",
    "\n",
    "x_q = np.round((x_t - V_min) / delta) * delta + V_min\n",
    "\n",
    "x_q = np.clip(x_q, V_min, V_max)\n",
    "\n",
    "quantixation_noise = x_t - x_q\n",
    "\n",
    "signal_power = np.mean(x_t ** 2)\n",
    "\n",
    "noise_power = np.mean(quantixation_noise ** 2)\n",
    "\n",
    "SNR = 10 * np.log10(signal_power / noise_power)\n",
    "\n",
    "plt.figure(figsize = (10, 6))\n",
    "plt.plot(t, x_t)\n",
    "plt.step(t, x_q)\n",
    "plt.xlabel('Time [s]')\n",
    "plt.ylabel('Amplitude [V]')\n",
    "plt.title('Quantization of $x(t) = 4.5 \\sin(2\\pi)')\n",
    "plt.xlim([0, 0.02])\n",
    "plt.legend()\n",
    "plt.grid(True)\n",
    "plt.show()"
   ]
  }
 ],
 "metadata": {
  "kernelspec": {
   "display_name": "Python 3",
   "language": "python",
   "name": "python3"
  },
  "language_info": {
   "name": "python",
   "version": "3.12.6"
  }
 },
 "nbformat": 4,
 "nbformat_minor": 2
}
